{
 "cells": [
  {
   "cell_type": "code",
   "execution_count": 10,
   "id": "00eb710d",
   "metadata": {},
   "outputs": [],
   "source": [
    "# Creating a Neural Network"
   ]
  },
  {
   "cell_type": "code",
   "execution_count": 1,
   "id": "e5b1bfef",
   "metadata": {},
   "outputs": [],
   "source": [
    "# Imports TensorFlow and tf.keras\n",
    "import tensorflow as tf\n",
    "from tensorflow import keras\n",
    "\n",
    "# Helper libraries\n",
    "import numpy as np\n",
    "import matplotlib.pyplot as plt"
   ]
  },
  {
   "cell_type": "code",
   "execution_count": null,
   "id": "932fc1cd",
   "metadata": {},
   "outputs": [],
   "source": [
    "#Dataset\n",
    "We will use the MNIST Fashion Dataset. This is a dataset that is included in keras.\n",
    "This dataset includes 60,000 images for training and 10,000 images for validation/testing."
   ]
  },
  {
   "cell_type": "code",
   "execution_count": 2,
   "id": "80158cc3",
   "metadata": {},
   "outputs": [],
   "source": [
    "# load dataset\n",
    "fashion_mnist = keras.datasets.fashion_mnist\n",
    "\n",
    "# split into testing and training\n",
    "(train_images, train_labels), (test_images, test_labels) = fashion_mnist.load_data()"
   ]
  },
  {
   "cell_type": "code",
   "execution_count": 3,
   "id": "f57a6e46",
   "metadata": {},
   "outputs": [
    {
     "data": {
      "text/plain": [
       "array([9, 0, 0, 3, 0, 2, 7, 2, 5, 5], dtype=uint8)"
      ]
     },
     "execution_count": 3,
     "metadata": {},
     "output_type": "execute_result"
    }
   ],
   "source": [
    "train_labels[:10]  # let's have a look at the first 10 training labels"
   ]
  },
  {
   "cell_type": "code",
   "execution_count": 4,
   "id": "d9665d54",
   "metadata": {},
   "outputs": [],
   "source": [
    "#Our labels are integers ranging from 0 - 9. Each integer represents a specific article of clothing. We'll create an array of label names to indicate which is which.\n",
    "class_names = ['T-shirt/top', 'Trouser', 'Pullover', 'Dress', 'Coat', 'Sandal', 'Shirt', 'Sneaker', 'Bag', 'Ankle boot']"
   ]
  },
  {
   "cell_type": "code",
   "execution_count": 6,
   "id": "d684ace8",
   "metadata": {},
   "outputs": [
    {
     "data": {
      "image/png": "[encoded data removed]",
      "text/plain": [
       "<Figure size 432x288 with 2 Axes>"
      ]
     },
     "metadata": {
      "needs_background": "light"
     },
     "output_type": "display_data"
    }
   ],
   "source": [
    "plt.figure()\n",
    "plt.imshow(train_images[6])\n",
    "plt.colorbar()\n",
    "plt.grid(False)\n",
    "plt.show()"
   ]
  },
  {
   "cell_type": "code",
   "execution_count": 7,
   "id": "a7e3a59a",
   "metadata": {},
   "outputs": [],
   "source": [
    "#Data Preprocessing\n",
    "The last step before creating our model is to preprocess our data. \n",
    "This simply means applying some prior transformations to our data before feeding it the model. \n",
    "In this case we will simply scale all our greyscale pixel values (0-255) to be between 0 and 1. \n",
    "We can do this by dividing each value in the training and testing sets by 255.0. \n",
    "We do this because smaller values will make it easier for the model to process our values."
   ]
  },
  {
   "cell_type": "code",
   "execution_count": 8,
   "id": "5c88e6b0",
   "metadata": {},
   "outputs": [],
   "source": [
    "train_images = train_images / 255.0\n",
    "\n",
    "test_images = test_images / 255.0"
   ]
  },
  {
   "cell_type": "code",
   "execution_count": null,
   "id": "26e71f2d",
   "metadata": {},
   "outputs": [],
   "source": [
    "#Building the Model\n",
    "We are going to use a keras sequential model with three different layers. \n",
    "This model represents a feed-forward neural network (one that passes values from left to right).\n",
    "\n",
    "Layer 1: This is our input layer and it will conist of 784 neurons. \n",
    "    We use the flatten layer with an input shape of (28,28) to denote that our input should come in in that shape. \n",
    "    The flatten means that our layer will reshape the shape (28,28) array into a vector of 784 neurons so that each pixel will be associated with one neuron.\n",
    "\n",
    "Layer 2: This is our first and only hidden layer. \n",
    "    The dense denotes that this layer will be fully connected and each neuron from the previous layer connects to each neuron of this layer. \n",
    "    It has 128 neurons and uses the rectify linear unit activation function.\n",
    "\n",
    "Layer 3: This is our output later and is also a dense layer. \n",
    "    It has 10 neurons that we will look at to determine our models output. \n",
    "    Each neuron represnts the probabillity of a given image being one of the 10 different classes. \n",
    "    The activation function softmax is used on this layer to calculate a probabillity distribution for each class. \n",
    "    This means the value of any neuron in this layer will be between 0 and 1, where 1 represents a high probabillity of the image being that class."
   ]
  },
  {
   "cell_type": "code",
   "execution_count": 9,
   "id": "8471e28b",
   "metadata": {},
   "outputs": [],
   "source": [
    "model = keras.Sequential([\n",
    "    keras.layers.Flatten(input_shape=(28, 28)),  # input layer (1)\n",
    "    keras.layers.Dense(128, activation='relu'),  # hidden layer (2)\n",
    "    keras.layers.Dense(10, activation='softmax') # output layer (3)\n",
    "])"
   ]
  },
  {
   "cell_type": "code",
   "execution_count": 10,
   "id": "c393ab10",
   "metadata": {},
   "outputs": [],
   "source": [
    "#Compile the Model\n",
    "model.compile(optimizer='adam',\n",
    "              loss='sparse_categorical_crossentropy',\n",
    "              metrics=['accuracy'])"
   ]
  },
  {
   "cell_type": "code",
   "execution_count": 11,
   "id": "68d270d7",
   "metadata": {},
   "outputs": [
    {
     "name": "stdout",
     "output_type": "stream",
     "text": [
      "Epoch 1/10\n",
      "1875/1875 [==============================] - 19s 7ms/step - loss: 0.4989 - accuracy: 0.8252\n",
      "Epoch 2/10\n",
      "1875/1875 [==============================] - 12s 6ms/step - loss: 0.3744 - accuracy: 0.8650\n",
      "Epoch 3/10\n",
      "1875/1875 [==============================] - 12s 7ms/step - loss: 0.3342 - accuracy: 0.8789\n",
      "Epoch 4/10\n",
      "1875/1875 [==============================] - 12s 7ms/step - loss: 0.3095 - accuracy: 0.8866\n",
      "Epoch 5/10\n",
      "1875/1875 [==============================] - 12s 6ms/step - loss: 0.2939 - accuracy: 0.8908\n",
      "Epoch 6/10\n",
      "1875/1875 [==============================] - 12s 6ms/step - loss: 0.2805 - accuracy: 0.8974\n",
      "Epoch 7/10\n",
      "1875/1875 [==============================] - 12s 6ms/step - loss: 0.2687 - accuracy: 0.9001\n",
      "Epoch 8/10\n",
      "1875/1875 [==============================] - 13s 7ms/step - loss: 0.2584 - accuracy: 0.9027\n",
      "Epoch 9/10\n",
      "1875/1875 [==============================] - 13s 7ms/step - loss: 0.2477 - accuracy: 0.9080\n",
      "Epoch 10/10\n",
      "1875/1875 [==============================] - 12s 6ms/step - loss: 0.2400 - accuracy: 0.9099\n"
     ]
    },
    {
     "data": {
      "text/plain": [
       "<keras.callbacks.History at 0x245a4508a88>"
      ]
     },
     "execution_count": 11,
     "metadata": {},
     "output_type": "execute_result"
    }
   ],
   "source": [
    "#Training the Model\n",
    "model.fit(train_images, train_labels, epochs=10)  # we pass the data, labels and epochs and watch the magic!"
   ]
  },
  {
   "cell_type": "code",
   "execution_count": null,
   "id": "8173d516",
   "metadata": {},
   "outputs": [],
   "source": [
    "#Evaluating the Model\n",
    "We can do this quite easily using another builtin method from keras.\n",
    "The verbose argument is defined from the keras documentation as: \"verbose: 0 or 1. Verbosity mode. 0 = silent, 1 = progress bar.\""
   ]
  },
  {
   "cell_type": "code",
   "execution_count": 12,
   "id": "b0568886",
   "metadata": {
    "scrolled": true
   },
   "outputs": [
    {
     "name": "stdout",
     "output_type": "stream",
     "text": [
      "313/313 [==============================] - 2s 6ms/step - loss: 0.3467 - accuracy: 0.8820\n",
      "Test accuracy: 0.8820000290870667\n"
     ]
    }
   ],
   "source": [
    "test_loss, test_acc = model.evaluate(test_images,  test_labels, verbose=1) \n",
    "\n",
    "print('Test accuracy:', test_acc)"
   ]
  },
  {
   "cell_type": "code",
   "execution_count": 24,
   "id": "f0801f0a",
   "metadata": {},
   "outputs": [
    {
     "data": {
      "text/plain": [
       "(10000, 28, 28)"
      ]
     },
     "execution_count": 24,
     "metadata": {},
     "output_type": "execute_result"
    }
   ],
   "source": [
    "test_images.shape"
   ]
  },
  {
   "cell_type": "code",
   "execution_count": 30,
   "id": "8d057df7",
   "metadata": {},
   "outputs": [
    {
     "name": "stdout",
     "output_type": "stream",
     "text": [
      "1/1 [==============================] - 0s 46ms/step\n"
     ]
    }
   ],
   "source": [
    "#Making Predictions\n",
    "#To make predictions we simply need to pass an array of data in the form we ve specified in the input layer to .predict() method.\n",
    "index = 0\n",
    "predictions = model.predict(test_images[index])"
   ]
  },
  {
   "cell_type": "code",
   "execution_count": 33,
   "id": "4af1b5d8",
   "metadata": {
    "scrolled": true
   },
   "outputs": [
    {
     "data": {
      "text/plain": [
       "array([1.8592448e-08, 1.8976406e-08, 1.8656817e-08, 1.3862202e-10,\n",
       "       1.9757803e-08, 6.3529960e-04, 1.4201017e-07, 9.7497717e-02,\n",
       "       1.5962367e-07, 9.0186667e-01], dtype=float32)"
      ]
     },
     "execution_count": 33,
     "metadata": {},
     "output_type": "execute_result"
    }
   ],
   "source": [
    "predictions[index]"
   ]
  },
  {
   "cell_type": "code",
   "execution_count": 34,
   "id": "460fd4c3",
   "metadata": {},
   "outputs": [
    {
     "data": {
      "text/plain": [
       "9"
      ]
     },
     "execution_count": 34,
     "metadata": {},
     "output_type": "execute_result"
    }
   ],
   "source": [
    "np.argmax(predictions[index]) #If we wan't to get the value with the highest score we can use a useful function from numpy called argmax(). This simply returns the index of the maximium value from a numpy array."
   ]
  },
  {
   "cell_type": "code",
   "execution_count": 35,
   "id": "d9999ffc",
   "metadata": {},
   "outputs": [
    {
     "data": {
      "text/plain": [
       "9"
      ]
     },
     "execution_count": 35,
     "metadata": {},
     "output_type": "execute_result"
    }
   ],
   "source": [
    "test_labels[index]  #And we can check if this is correct by looking at the value of the cooresponding test label."
   ]
  },
  {
   "cell_type": "code",
   "execution_count": 18,
   "id": "a16283af",
   "metadata": {},
   "outputs": [
    {
     "name": "stdout",
     "output_type": "stream",
     "text": [
      "Pick a number: 9\n",
      "1/1 [==============================] - 0s 31ms/step\n"
     ]
    },
    {
     "data": {
      "image/png": "[encoded data removed]",
      "text/plain": [
       "<Figure size 432x288 with 2 Axes>"
      ]
     },
     "metadata": {
      "needs_background": "light"
     },
     "output_type": "display_data"
    }
   ],
   "source": [
    "#Verifying Predictions\n",
    "COLOR = 'white'\n",
    "plt.rcParams['text.color'] = COLOR\n",
    "plt.rcParams['axes.labelcolor'] = COLOR\n",
    "\n",
    "def predict(model, image, correct_label):\n",
    "  class_names = ['T-shirt/top', 'Trouser', 'Pullover', 'Dress', 'Coat',\n",
    "               'Sandal', 'Shirt', 'Sneaker', 'Bag', 'Ankle boot']\n",
    "  prediction = model.predict(np.array([image]))\n",
    "  predicted_class = class_names[np.argmax(prediction)]\n",
    "\n",
    "  show_image(image, class_names[correct_label], predicted_class)\n",
    "\n",
    "\n",
    "def show_image(img, label, guess):\n",
    "  plt.figure()\n",
    "  plt.imshow(img, cmap=plt.cm.binary)\n",
    "  plt.title(\"Excpected: \" + label)\n",
    "  plt.xlabel(\"Guess: \" + guess)\n",
    "  plt.colorbar()\n",
    "  plt.grid(False)\n",
    "  plt.show()\n",
    "\n",
    "\n",
    "def get_number():\n",
    "  while True:\n",
    "    num = input(\"Pick a number: \")\n",
    "    if num.isdigit():\n",
    "      num = int(num)\n",
    "      if 0 <= num <= 1000:\n",
    "        return int(num)\n",
    "    else:\n",
    "      print(\"Try again...\")\n",
    "\n",
    "num = get_number()\n",
    "image = test_images[num]\n",
    "label = test_labels[num]\n",
    "predict(model, image, label)"
   ]
  }
 ],
 "metadata": {
  "kernelspec": {
   "display_name": "ak-jupyter",
   "language": "python",
   "name": "ak-jupyter"
  },
  "language_info": {
   "codemirror_mode": {
    "name": "ipython",
    "version": 3
   },
   "file_extension": ".py",
   "mimetype": "text/x-python",
   "name": "python",
   "nbconvert_exporter": "python",
   "pygments_lexer": "ipython3",
   "version": "3.7.8"
  }
 },
 "nbformat": 4,
 "nbformat_minor": 5
}
