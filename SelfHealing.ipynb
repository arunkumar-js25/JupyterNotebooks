{
 "cells": [
  {
   "cell_type": "code",
   "execution_count": 2,
   "id": "e2954a7e",
   "metadata": {},
   "outputs": [],
   "source": [
    "import pandas\n",
    "import matplotlib.pyplot as plt\n",
    "from sklearn.datasets import make_regression\n",
    "from sklearn.model_selection import train_test_split"
   ]
  },
  {
   "cell_type": "code",
   "execution_count": 3,
   "id": "ed88765e",
   "metadata": {},
   "outputs": [],
   "source": [
    "df = pandas.read_csv(\"D:\\ArunKumar\\Library\\Machine Learning\\Project_SelfHealing\\DataSet_14L_1.5P.csv\")\n",
    "X = df[['Load','Capsule','InitialFrequency','Days']]\n",
    "y = df['Frequency']"
   ]
  },
  {
   "cell_type": "code",
   "execution_count": null,
   "id": "319644e4",
   "metadata": {},
   "outputs": [],
   "source": [
    "#TrainingSet\n",
    "X_test = [[14,1.5,106.2,5]]"
   ]
  },
  {
   "cell_type": "code",
   "execution_count": 4,
   "id": "eb5845ff",
   "metadata": {},
   "outputs": [
    {
     "name": "stdout",
     "output_type": "stream",
     "text": [
      "    Load  Capsule  InitialFrequency  Days\n",
      "3     14      0.0             107.1    14\n",
      "16    14      6.0             108.2     3\n",
      "6     14      1.5             106.2    10\n",
      "10    12      3.0             107.4    10\n",
      "2     14      0.0             107.1    10\n",
      "3     234.8\n",
      "16    236.2\n",
      "6     211.2\n",
      "10    205.3\n",
      "2     235.1\n",
      "Name: Frequency, dtype: float64\n"
     ]
    }
   ],
   "source": [
    "#Training Set\n",
    "X_train, X_test, y_train, y_test = train_test_split(X, y,random_state=1)\n",
    "print(X_test)\n",
    "print(y_test)"
   ]
  },
  {
   "cell_type": "code",
   "execution_count": 5,
   "id": "1e9dd91f",
   "metadata": {},
   "outputs": [
    {
     "name": "stdout",
     "output_type": "stream",
     "text": [
      "[218.50634943 225.96975643 211.06961102 204.34571688 231.51250327]\n"
     ]
    }
   ],
   "source": [
    "#Multiple linear Regression\n",
    "from sklearn import linear_model\n",
    "\n",
    "model = linear_model.LinearRegression()\n",
    "model.fit(X, y)\n",
    "\n",
    "y_pred = model.predict(X_test)\n",
    "print(y_pred)\n",
    "\n",
    "#Coefficient\n",
    "#print(regr.coef_)"
   ]
  },
  {
   "cell_type": "code",
   "execution_count": 7,
   "id": "f3039758",
   "metadata": {},
   "outputs": [
    {
     "name": "stdout",
     "output_type": "stream",
     "text": [
      "[201.5274539  223.01930196 210.44654739 203.15610531 215.96389318]\n"
     ]
    }
   ],
   "source": [
    "#BRR : Bayesian Ridge Regression : Very effective when the size of the dataset is small.\n",
    "from sklearn.linear_model import BayesianRidge\n",
    "\n",
    "# Creating and training model\n",
    "model = BayesianRidge()\n",
    "model.fit(X_train, y_train)\n",
    "\n",
    "# Model making a prediction on test data\n",
    "y_pred = model.predict(X_test)\n",
    "print(y_pred)"
   ]
  },
  {
   "cell_type": "code",
   "execution_count": 8,
   "id": "a5b8c05d",
   "metadata": {},
   "outputs": [
    {
     "name": "stdout",
     "output_type": "stream",
     "text": [
      "[234.77951224 236.25870737 211.0462019  205.42113882 235.1439454 ]\n"
     ]
    }
   ],
   "source": [
    "#GBR : Gradient Boosting Regression - WORKS ACCURATE\n",
    "from sklearn.ensemble import GradientBoostingRegressor\n",
    "\n",
    "# with new parameters\n",
    "model = GradientBoostingRegressor(n_estimators=600, max_depth=5, learning_rate=0.01, min_samples_split=3)\n",
    "# with default parameters\n",
    "model = GradientBoostingRegressor()\n",
    "\n",
    "model.fit(X, y)\n",
    "\n",
    "y_pred = model.predict(X_test)\n",
    "print(y_pred)"
   ]
  },
  {
   "cell_type": "code",
   "execution_count": 9,
   "id": "43958442",
   "metadata": {},
   "outputs": [
    {
     "name": "stdout",
     "output_type": "stream",
     "text": [
      "Alpha :  0.99\n",
      "[216.92209365 224.99016475 212.536707   204.41849894 229.88874907]\n"
     ]
    }
   ],
   "source": [
    "#Ridge Regression : Ridge regression is a method we can use to fit a regression model when multicollinearity is present in the data.\n",
    "from numpy import arange\n",
    "from sklearn.linear_model import Ridge\n",
    "from sklearn.linear_model import RidgeCV\n",
    "from sklearn.model_selection import RepeatedKFold\n",
    "\n",
    "\n",
    "#define cross-validation method to evaluate model\n",
    "cv = RepeatedKFold(n_splits=10, n_repeats=3, random_state=1)\n",
    "\n",
    "#define Ridge model\n",
    "#model = Ridge(alpha = 0.5, tol = 0.001, solver ='auto', random_state = 42)\n",
    "model = RidgeCV(alphas=arange(0, 1, 0.01), cv=cv, scoring='neg_mean_absolute_error')\n",
    "\n",
    "#fit model\n",
    "model.fit(X, y)\n",
    "\n",
    "#display lambda that produced the lowest test MSE\n",
    "print(\"Alpha : \",model.alpha_)\n",
    "\n",
    "#predict hp value using ridge regression model\n",
    "y_pred = model.predict(X_test)\n",
    "print(y_pred)"
   ]
  },
  {
   "cell_type": "code",
   "execution_count": 10,
   "id": "bf58679c",
   "metadata": {},
   "outputs": [
    {
     "name": "stdout",
     "output_type": "stream",
     "text": [
      "[216.8485032  224.76812602 212.36354577 204.83000424 229.75373397]\n"
     ]
    }
   ],
   "source": [
    "#Lasso Ridge Regression\n",
    "from numpy import arange\n",
    "from sklearn.linear_model import LassoCV\n",
    "from sklearn.model_selection import RepeatedKFold\n",
    "\n",
    "#define cross-validation method to evaluate model\n",
    "cv = RepeatedKFold(n_splits=10, n_repeats=3, random_state=1)\n",
    "\n",
    "#define LassoCV model\n",
    "model = LassoCV(alphas=arange(0.1, 1, 0.01), cv=cv, n_jobs=-1)\n",
    "\n",
    "#fit model\n",
    "model.fit(X, y)\n",
    "\n",
    "#predict hp value using ridge regression model\n",
    "y_pred = model.predict(X_test)\n",
    "print(y_pred)"
   ]
  },
  {
   "cell_type": "code",
   "execution_count": 12,
   "id": "315f2e00",
   "metadata": {},
   "outputs": [
    {
     "name": "stdout",
     "output_type": "stream",
     "text": [
      "[218.50634943 225.96975643 211.06961102 204.34571688 231.51250327]\n"
     ]
    }
   ],
   "source": [
    "# Standard Scaler\n",
    "import pandas\n",
    "from sklearn import linear_model\n",
    "from sklearn.preprocessing import StandardScaler\n",
    "scale = StandardScaler()\n",
    "scaledX = scale.fit_transform(X)\n",
    "#print(scaledX)\n",
    "\n",
    "model = linear_model.LinearRegression()\n",
    "model.fit(scaledX, y)\n",
    "\n",
    "scaled = scale.transform(X_test)\n",
    "y_pred = model.predict(scaled)\n",
    "print(y_pred)"
   ]
  },
  {
   "cell_type": "code",
   "execution_count": 13,
   "id": "1b2e33d6",
   "metadata": {},
   "outputs": [
    {
     "name": "stdout",
     "output_type": "stream",
     "text": [
      "[234.8 236.2 211.2 205.3 235.1]\n"
     ]
    }
   ],
   "source": [
    "#DTR : Decision Tree Regression\n",
    "from sklearn import tree\n",
    "\n",
    "model = tree.DecisionTreeRegressor(max_depth=5)\n",
    "model.fit(X, y)\n",
    "\n",
    "y_pred = model.predict(X_test)\n",
    "print(y_pred)"
   ]
  },
  {
   "cell_type": "code",
   "execution_count": 14,
   "id": "e32c25ce",
   "metadata": {},
   "outputs": [
    {
     "name": "stdout",
     "output_type": "stream",
     "text": [
      "[214.12962424 214.24718016 214.17601947 214.16607815 214.18291278]\n"
     ]
    }
   ],
   "source": [
    "#Support Vector Regression\n",
    "from sklearn import svm\n",
    "model = svm.SVR()\n",
    "model.fit(X, y)\n",
    "\n",
    "y_pred = model.predict(X_test)\n",
    "print(y_pred)"
   ]
  },
  {
   "cell_type": "code",
   "execution_count": 17,
   "id": "a53d727f",
   "metadata": {},
   "outputs": [
    {
     "name": "stdout",
     "output_type": "stream",
     "text": [
      "[211.24108398 225.0615191  216.01629558 208.15976852 223.1008525 ]\n"
     ]
    },
    {
     "name": "stderr",
     "output_type": "stream",
     "text": [
      "C:\\Users\\Arun Kumar\\anaconda3\\lib\\site-packages\\sklearn\\svm\\_base.py:1206: ConvergenceWarning: Liblinear failed to converge, increase the number of iterations.\n",
      "  warnings.warn(\n"
     ]
    }
   ],
   "source": [
    "# LinearSVR - Support Vector Regression\n",
    "\n",
    "from sklearn.svm import LinearSVR\n",
    "from sklearn.pipeline import make_pipeline\n",
    "\n",
    "model = make_pipeline(LinearSVR(random_state=0, tol=1e-5))\n",
    "model.fit(X, y)\n",
    "\n",
    "y_pred = model.predict(X_test)\n",
    "print(y_pred)"
   ]
  },
  {
   "cell_type": "code",
   "execution_count": 15,
   "id": "33f2ec4c",
   "metadata": {},
   "outputs": [
    {
     "name": "stdout",
     "output_type": "stream",
     "text": [
      "[211.02754209 222.228105   214.09135207 208.06280302 218.93110711]\n"
     ]
    },
    {
     "name": "stderr",
     "output_type": "stream",
     "text": [
      "C:\\Users\\Arun Kumar\\anaconda3\\lib\\site-packages\\sklearn\\neural_network\\_multilayer_perceptron.py:692: ConvergenceWarning: Stochastic Optimizer: Maximum iterations (500) reached and the optimization hasn't converged yet.\n",
      "  warnings.warn(\n"
     ]
    }
   ],
   "source": [
    "# ANN - Neural Network Regression\n",
    "from sklearn.neural_network import MLPRegressor\n",
    "from sklearn.datasets import make_regression\n",
    "\n",
    "model = MLPRegressor(max_iter=500)\n",
    "model.fit(X, y)\n",
    "\n",
    "y_pred = model.predict(X_test)\n",
    "print(y_pred)"
   ]
  },
  {
   "cell_type": "code",
   "execution_count": 16,
   "id": "53af3ceb",
   "metadata": {},
   "outputs": [
    {
     "name": "stdout",
     "output_type": "stream",
     "text": [
      "r2 Score Of Test Set : -0.15196643666823695\n"
     ]
    }
   ],
   "source": [
    "# Evaluation of r2 score of the model against the test set\n",
    "from sklearn.metrics import r2_score\n",
    "print(f\"r2 Score Of Test Set : {r2_score(y_test, y_pred)}\")"
   ]
  },
  {
   "cell_type": "code",
   "execution_count": 17,
   "id": "7e92e607",
   "metadata": {},
   "outputs": [
    {
     "name": "stdout",
     "output_type": "stream",
     "text": [
      "MSE: 207.55\n"
     ]
    }
   ],
   "source": [
    "from sklearn.metrics import mean_squared_error\n",
    "mse = mean_squared_error(y_test,y_pred)\n",
    "print(\"MSE: %.2f\" % mse)"
   ]
  },
  {
   "cell_type": "code",
   "execution_count": 18,
   "id": "f85ae31f",
   "metadata": {},
   "outputs": [
    {
     "data": {
      "image/png": "[encoded data removed]",
      "text/plain": [
       "<Figure size 432x288 with 1 Axes>"
      ]
     },
     "metadata": {
      "needs_background": "light"
     },
     "output_type": "display_data"
    }
   ],
   "source": [
    "# Original Vs Predicted Values\n",
    "x_ax = range(len(y_test))\n",
    "plt.scatter(x_ax, y_test, s=5, color=\"blue\", label=\"original\")\n",
    "plt.plot(x_ax, y_pred, lw=0.8, color=\"red\", label=\"predicted\")\n",
    "plt.legend()\n",
    "plt.show()"
   ]
  },
  {
   "cell_type": "code",
   "execution_count": 20,
   "id": "ab1cd821",
   "metadata": {},
   "outputs": [
    {
     "data": {
      "image/png": "[encoded data removed]",
      "text/plain": [
       "<Figure size 432x288 with 1 Axes>"
      ]
     },
     "metadata": {
      "needs_background": "light"
     },
     "output_type": "display_data"
    }
   ],
   "source": [
    "# Plot the results\n",
    "\n",
    "plt.figure()\n",
    "plt.scatter(X['Days'], y, s=5, edgecolor=\"black\", c=\"darkorange\", label=\"data\")\n",
    "plt.plot(X_test['Days'], y_pred, color=\"yellowgreen\", label=\"max_depth=5\", linewidth=2)\n",
    "plt.xlabel(\"Days\")\n",
    "plt.ylabel(\"Frequency\")\n",
    "plt.title(\"GBR\")\n",
    "plt.legend()\n",
    "plt.show()"
   ]
  },
  {
   "cell_type": "code",
   "execution_count": null,
   "id": "de38ce24",
   "metadata": {
    "scrolled": true
   },
   "outputs": [],
   "source": [
    "# Implementation of gradient descent in linear regression \n",
    "import numpy as np \n",
    "import matplotlib.pyplot as plt \n",
    "  \n",
    "class Linear_Regression: \n",
    "    def __init__(self, X, Y): \n",
    "        self.X = X \n",
    "        self.Y = Y \n",
    "        self.b = [0, 0] \n",
    "      \n",
    "    def update_coeffs(self, learning_rate): \n",
    "        Y_pred = self.predict() \n",
    "        Y = self.Y \n",
    "        m = len(Y) \n",
    "        self.b[0] = self.b[0] - (learning_rate * ((1/m) *\n",
    "                                np.sum(Y_pred - Y))) \n",
    "  \n",
    "        self.b[1] = self.b[1] - (learning_rate * ((1/m) *\n",
    "                                np.sum((Y_pred - Y) * self.X))) \n",
    "  \n",
    "    def predict(self, X=[]): \n",
    "        Y_pred = np.array([]) \n",
    "        if not X: X = self.X \n",
    "        b = self.b \n",
    "        for x in X: \n",
    "            Y_pred = np.append(Y_pred, b[0] + (b[1] * x)) \n",
    "  \n",
    "        return Y_pred \n",
    "      \n",
    "    def get_current_accuracy(self, Y_pred): \n",
    "        p, e = Y_pred, self.Y \n",
    "        n = len(Y_pred) \n",
    "        return 1-sum( \n",
    "            [ \n",
    "                abs(p[i]-e[i])/e[i] \n",
    "                for i in range(n) \n",
    "                if e[i] != 0] \n",
    "        )/n \n",
    "    #def predict(self, b, yi): \n",
    "  \n",
    "    def compute_cost(self, Y_pred): \n",
    "        m = len(self.Y) \n",
    "        J = (1 / 2*m) * (np.sum(Y_pred - self.Y)**2) \n",
    "        return J \n",
    "  \n",
    "    def plot_best_fit(self, Y_pred, fig): \n",
    "                f = plt.figure(fig) \n",
    "                plt.scatter(self.X, self.Y, color='b') \n",
    "                plt.plot(self.X, Y_pred, color='g') \n",
    "                f.show() \n",
    "  \n",
    "  \n",
    "def main(): \n",
    "    X = np.array([i for i in range(11)]) \n",
    "    Y = np.array([2*i for i in range(11)]) \n",
    "  \n",
    "    regressor = Linear_Regression(X, Y) \n",
    "  \n",
    "    iterations = 0\n",
    "    steps = 100\n",
    "    learning_rate = 0.01\n",
    "    costs = [] \n",
    "      \n",
    "    #original best-fit line \n",
    "    Y_pred = regressor.predict() \n",
    "    regressor.plot_best_fit(Y_pred, 'Initial Best Fit Line') \n",
    "      \n",
    "  \n",
    "    while 1: \n",
    "        Y_pred = regressor.predict() \n",
    "        cost = regressor.compute_cost(Y_pred) \n",
    "        costs.append(cost) \n",
    "        regressor.update_coeffs(learning_rate) \n",
    "          \n",
    "        iterations += 1\n",
    "        if iterations % steps == 0: \n",
    "            print(iterations, \"epochs elapsed\") \n",
    "            print(\"Current accuracy is :\", \n",
    "                regressor.get_current_accuracy(Y_pred)) \n",
    "  \n",
    "            stop = input(\"Do you want to stop (y/*)??\") \n",
    "            if stop == \"y\": \n",
    "                break\n",
    "  \n",
    "    #final best-fit line \n",
    "    regressor.plot_best_fit(Y_pred, 'Final Best Fit Line') \n",
    "  \n",
    "    #plot to verify cost function decreases \n",
    "    h = plt.figure('Verification') \n",
    "    plt.plot(range(iterations), costs, color='b') \n",
    "    h.show() \n",
    "  \n",
    "    # if user wants to predict using the regressor: \n",
    "    regressor.predict([i for i in range(10)]) \n",
    "  \n",
    "if __name__ == '__main__': \n",
    "    main()"
   ]
  },
  {
   "cell_type": "code",
   "execution_count": 14,
   "id": "4d3f17b5",
   "metadata": {},
   "outputs": [
    {
     "ename": "InvocationException",
     "evalue": "GraphViz's executables not found",
     "output_type": "error",
     "traceback": [
      "\u001b[1;31m---------------------------------------------------------------------------\u001b[0m",
      "\u001b[1;31mInvocationException\u001b[0m                       Traceback (most recent call last)",
      "Input \u001b[1;32mIn [14]\u001b[0m, in \u001b[0;36m<cell line: 8>\u001b[1;34m()\u001b[0m\n\u001b[0;32m      6\u001b[0m \u001b[38;5;28;01mfrom\u001b[39;00m \u001b[38;5;21;01mIPython\u001b[39;00m\u001b[38;5;21;01m.\u001b[39;00m\u001b[38;5;21;01mdisplay\u001b[39;00m \u001b[38;5;28;01mimport\u001b[39;00m Image\n\u001b[0;32m      7\u001b[0m graph \u001b[38;5;241m=\u001b[39m pydotplus\u001b[38;5;241m.\u001b[39mgraph_from_dot_data(dot_data) \u001b[38;5;66;03m# Show graph\u001b[39;00m\n\u001b[1;32m----> 8\u001b[0m Image(\u001b[43mgraph\u001b[49m\u001b[38;5;241;43m.\u001b[39;49m\u001b[43mcreate_png\u001b[49m\u001b[43m(\u001b[49m\u001b[43m)\u001b[49m)\n",
      "File \u001b[1;32m~\\anaconda3\\lib\\site-packages\\pydotplus\\graphviz.py:1797\u001b[0m, in \u001b[0;36mDot.__init__.<locals>.<lambda>\u001b[1;34m(f, prog)\u001b[0m\n\u001b[0;32m   1792\u001b[0m \u001b[38;5;66;03m# Automatically creates all the methods enabling the creation\u001b[39;00m\n\u001b[0;32m   1793\u001b[0m \u001b[38;5;66;03m# of output in any of the supported formats.\u001b[39;00m\n\u001b[0;32m   1794\u001b[0m \u001b[38;5;28;01mfor\u001b[39;00m frmt \u001b[38;5;129;01min\u001b[39;00m \u001b[38;5;28mself\u001b[39m\u001b[38;5;241m.\u001b[39mformats:\n\u001b[0;32m   1795\u001b[0m     \u001b[38;5;28mself\u001b[39m\u001b[38;5;241m.\u001b[39m\u001b[38;5;21m__setattr__\u001b[39m(\n\u001b[0;32m   1796\u001b[0m         \u001b[38;5;124m'\u001b[39m\u001b[38;5;124mcreate_\u001b[39m\u001b[38;5;124m'\u001b[39m \u001b[38;5;241m+\u001b[39m frmt,\n\u001b[1;32m-> 1797\u001b[0m         \u001b[38;5;28;01mlambda\u001b[39;00m f\u001b[38;5;241m=\u001b[39mfrmt, prog\u001b[38;5;241m=\u001b[39m\u001b[38;5;28mself\u001b[39m\u001b[38;5;241m.\u001b[39mprog: \u001b[38;5;28;43mself\u001b[39;49m\u001b[38;5;241;43m.\u001b[39;49m\u001b[43mcreate\u001b[49m\u001b[43m(\u001b[49m\u001b[38;5;28;43mformat\u001b[39;49m\u001b[38;5;241;43m=\u001b[39;49m\u001b[43mf\u001b[49m\u001b[43m,\u001b[49m\u001b[43m \u001b[49m\u001b[43mprog\u001b[49m\u001b[38;5;241;43m=\u001b[39;49m\u001b[43mprog\u001b[49m\u001b[43m)\u001b[49m\n\u001b[0;32m   1798\u001b[0m     )\n\u001b[0;32m   1799\u001b[0m     f \u001b[38;5;241m=\u001b[39m \u001b[38;5;28mself\u001b[39m\u001b[38;5;241m.\u001b[39m\u001b[38;5;18m__dict__\u001b[39m[\u001b[38;5;124m'\u001b[39m\u001b[38;5;124mcreate_\u001b[39m\u001b[38;5;124m'\u001b[39m \u001b[38;5;241m+\u001b[39m frmt]\n\u001b[0;32m   1800\u001b[0m     f\u001b[38;5;241m.\u001b[39m\u001b[38;5;18m__doc__\u001b[39m \u001b[38;5;241m=\u001b[39m (\n\u001b[0;32m   1801\u001b[0m         \u001b[38;5;124;03m'''Refer to the docstring accompanying the'''\u001b[39;00m\n\u001b[0;32m   1802\u001b[0m         \u001b[38;5;124;03m''''create' method for more information.'''\u001b[39;00m\n\u001b[0;32m   1803\u001b[0m     )\n",
      "File \u001b[1;32m~\\anaconda3\\lib\\site-packages\\pydotplus\\graphviz.py:1959\u001b[0m, in \u001b[0;36mDot.create\u001b[1;34m(self, prog, format)\u001b[0m\n\u001b[0;32m   1957\u001b[0m     \u001b[38;5;28mself\u001b[39m\u001b[38;5;241m.\u001b[39mprogs \u001b[38;5;241m=\u001b[39m find_graphviz()\n\u001b[0;32m   1958\u001b[0m     \u001b[38;5;28;01mif\u001b[39;00m \u001b[38;5;28mself\u001b[39m\u001b[38;5;241m.\u001b[39mprogs \u001b[38;5;129;01mis\u001b[39;00m \u001b[38;5;28;01mNone\u001b[39;00m:\n\u001b[1;32m-> 1959\u001b[0m         \u001b[38;5;28;01mraise\u001b[39;00m InvocationException(\n\u001b[0;32m   1960\u001b[0m             \u001b[38;5;124m'\u001b[39m\u001b[38;5;124mGraphViz\u001b[39m\u001b[38;5;130;01m\\'\u001b[39;00m\u001b[38;5;124ms executables not found\u001b[39m\u001b[38;5;124m'\u001b[39m)\n\u001b[0;32m   1962\u001b[0m \u001b[38;5;28;01mif\u001b[39;00m prog \u001b[38;5;129;01mnot\u001b[39;00m \u001b[38;5;129;01min\u001b[39;00m \u001b[38;5;28mself\u001b[39m\u001b[38;5;241m.\u001b[39mprogs:\n\u001b[0;32m   1963\u001b[0m     \u001b[38;5;28;01mraise\u001b[39;00m InvocationException(\n\u001b[0;32m   1964\u001b[0m         \u001b[38;5;124m'\u001b[39m\u001b[38;5;124mGraphViz\u001b[39m\u001b[38;5;130;01m\\'\u001b[39;00m\u001b[38;5;124ms executable \u001b[39m\u001b[38;5;124m\"\u001b[39m\u001b[38;5;132;01m%s\u001b[39;00m\u001b[38;5;124m\"\u001b[39m\u001b[38;5;124m not found\u001b[39m\u001b[38;5;124m'\u001b[39m \u001b[38;5;241m%\u001b[39m prog)\n",
      "\u001b[1;31mInvocationException\u001b[0m: GraphViz's executables not found"
     ]
    }
   ],
   "source": [
    "from sklearn import tree\n",
    "dot_data = tree.export_graphviz(model, out_file=None,feature_names=['Load','Capsule','InitialFrequency','Days'], class_names=['Frequency'])\n",
    "\n",
    "import pydotplus\n",
    "import graphviz\n",
    "from IPython.display import Image\n",
    "graph = pydotplus.graph_from_dot_data(dot_data) # Show graph\n",
    "Image(graph.create_png())"
   ]
  }
 ],
 "metadata": {
  "kernelspec": {
   "display_name": "Python 3 (ipykernel)",
   "language": "python",
   "name": "python3"
  },
  "language_info": {
   "codemirror_mode": {
    "name": "ipython",
    "version": 3
   },
   "file_extension": ".py",
   "mimetype": "text/x-python",
   "name": "python",
   "nbconvert_exporter": "python",
   "pygments_lexer": "ipython3",
   "version": "3.9.12"
  }
 },
 "nbformat": 4,
 "nbformat_minor": 5
}
